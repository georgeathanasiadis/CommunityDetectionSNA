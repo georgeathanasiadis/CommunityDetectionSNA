{
  "nbformat": 4,
  "nbformat_minor": 0,
  "metadata": {
    "colab": {
      "provenance": []
    },
    "kernelspec": {
      "name": "python3",
      "display_name": "Python 3"
    },
    "language_info": {
      "name": "python"
    }
  },
  "cells": [
    {
      "cell_type": "code",
      "execution_count": null,
      "metadata": {
        "id": "YudTz1-uZVr2"
      },
      "outputs": [],
      "source": [
        "import pickle\n",
        "import numpy as np\n",
        "import pandas as pd\n",
        "import networkx as nx\n",
        "import matplotlib.pyplot as plt\n",
        "import networkx.algorithms\n",
        "import collections\n",
        "import random\n",
        "import itertools\n",
        "import datetime\n",
        "import networkx.algorithms.community as nxcom\n",
        "#!pip install scipy==1.9.3 #run and then restart the kernel"
      ]
    },
    {
      "cell_type": "code",
      "source": [
        "G = nx.Graph()\n",
        "for i in range (63):\n",
        "  st = \"Graph_\" + str(i)\n",
        "  path = '/content/drive/MyDrive/day_graphs/'+st\n",
        "  G_temp = pickle.load(open(path, 'rb'))\n",
        "  G = nx.compose(G, G_temp)\n",
        "  #print(G)"
      ],
      "metadata": {
        "id": "g5izV4JCLk-d"
      },
      "execution_count": null,
      "outputs": []
    },
    {
      "cell_type": "code",
      "source": [
        "#G = pickle.load(open('/content/drive/MyDrive/Graph_1','rb'))\n",
        "attributes_dict = pickle.load(open('/content/drive/MyDrive/node_attributes','rb'))"
      ],
      "metadata": {
        "id": "-qi0LZcVbQPu"
      },
      "execution_count": null,
      "outputs": []
    },
    {
      "cell_type": "code",
      "source": [
        "#nx.draw_networkx(G_test)"
      ],
      "metadata": {
        "id": "_PV8dHPWyr-n"
      },
      "execution_count": null,
      "outputs": []
    },
    {
      "cell_type": "code",
      "source": [
        "nx.set_node_attributes(G, attributes_dict)"
      ],
      "metadata": {
        "id": "aBbNP5u6AbiK"
      },
      "execution_count": null,
      "outputs": []
    },
    {
      "cell_type": "code",
      "source": [
        "#nx.write_gexf(G, \"test.gexf\")"
      ],
      "metadata": {
        "id": "nBSqGBsA-Ksr"
      },
      "execution_count": null,
      "outputs": []
    },
    {
      "cell_type": "markdown",
      "source": [
        "#### Preprocessing"
      ],
      "metadata": {
        "id": "s9Y2Nms7WypR"
      }
    },
    {
      "cell_type": "code",
      "source": [
        "#cleaning, throwing any entries that contain at least one empty values\n",
        "\n",
        "#all attributes empty\n",
        "completely_empty_nodes = [n for n, d in G.nodes(data=True) if not d]\n",
        "#print(completely_empty_nodes)\n",
        "G.remove_nodes_from(completely_empty_nodes)\n",
        "#print(G)\n",
        "#nx.write_gexf(G, \"g_clean.gexf\")\n",
        "\n",
        "G.remove_edges_from(nx.selfloop_edges(G))\n"
      ],
      "metadata": {
        "id": "FBkHBKQbeHCD"
      },
      "execution_count": null,
      "outputs": []
    },
    {
      "cell_type": "markdown",
      "source": [
        "#### Exploratory Data Analysis"
      ],
      "metadata": {
        "id": "JwgSrddZWedb"
      }
    },
    {
      "cell_type": "code",
      "source": [
        "#dataset characterization\n",
        "fig, axs = plt.subplots(2, 2)\n",
        "_ = axs[0,0].plot(sorted(list(nx.get_node_attributes(G, 'followers').values())))\n",
        "_ = axs[0,1].plot(sorted(list(nx.get_node_attributes(G, 'following').values())))\n",
        "_ = axs[1,0].plot(sorted(list(nx.get_node_attributes(G, 'total_tweets').values())))\n",
        "_ = axs[1,1].plot(sorted(list(nx.get_node_attributes(G, 'twitter_age').values())))"
      ],
      "metadata": {
        "colab": {
          "base_uri": "https://localhost:8080/",
          "height": 276
        },
        "id": "D8U6PscVUIKH",
        "outputId": "6c65d6ca-df53-4cbe-cf69-c824e4555497"
      },
      "execution_count": null,
      "outputs": [
        {
          "output_type": "display_data",
          "data": {
            "text/plain": [
              "<Figure size 432x288 with 4 Axes>"
            ],
            "image/png": "[encoded data removed]"
          },
          "metadata": {
            "needs_background": "light"
          }
        }
      ]
    },
    {
      "cell_type": "code",
      "source": [
        "zeros = dict.fromkeys(list(attributes_dict.items())[0][1].keys(),0)\n",
        "unknown = dict.fromkeys(list(attributes_dict.items())[0][1].keys(),0)\n",
        "\n",
        "for key in zeros.keys():\n",
        "  zeros[key] = collections.Counter(nx.get_node_attributes(G, key).values())[0]\n",
        "print(zeros)"
      ],
      "metadata": {
        "colab": {
          "base_uri": "https://localhost:8080/"
        },
        "id": "dezh3rr0LrhW",
        "outputId": "3d64e014-4257-46d1-9d65-938b867d581e"
      },
      "execution_count": null,
      "outputs": [
        {
          "output_type": "stream",
          "name": "stdout",
          "text": [
            "{'followers': 235, 'following': 293, 'total_tweets': 0, 'lists': 9679, 'twitter_age': 0, 'verified': 23561, 'party': 0}\n"
          ]
        }
      ]
    },
    {
      "cell_type": "markdown",
      "source": [
        "#### Communities: Basics"
      ],
      "metadata": {
        "id": "lrsTKSbGW52R"
      }
    },
    {
      "cell_type": "code",
      "source": [
        "#k-cores\n",
        "\n",
        "#2-core\n",
        "G_core_2 = nx.k_core(G, 2)\n",
        "print(G_core_2)\n",
        "nx.write_gexf(G_core_2, \"2_core.gexf\")\n",
        "\n",
        "#4-core\n",
        "G_core_4 = nx.k_core(G, 4)\n",
        "print(G_core_4)\n",
        "nx.write_gexf(G_core_4, \"4_core.gexf\")\n",
        "\n",
        "#7-core, max_core for day1\n",
        "G_core_7 = nx.k_core(G, 7)\n",
        "print(G_core_7)\n",
        "nx.write_gexf(G_core_7, \"7_core.gexf\")"
      ],
      "metadata": {
        "colab": {
          "base_uri": "https://localhost:8080/"
        },
        "id": "ZQZCNRx01F6b",
        "outputId": "ebeeb26d-33ae-4e9e-a865-d3830243f50f"
      },
      "execution_count": null,
      "outputs": [
        {
          "output_type": "stream",
          "name": "stdout",
          "text": [
            "Graph with 15910 nodes and 218565 edges\n",
            "Graph with 10521 nodes and 205893 edges\n",
            "Graph with 7323 nodes and 190517 edges\n"
          ]
        }
      ]
    },
    {
      "cell_type": "markdown",
      "source": [
        "#### Political Discourse on Twitter: Devoted Supporters, Partisanship and Gatekeeping"
      ],
      "metadata": {
        "id": "4Vib_E2HY-rD"
      }
    },
    {
      "cell_type": "code",
      "source": [
        "#stepping into echo chambers\n",
        "\n",
        "common_attr = 'party'\n",
        "nodes_core = set()\n",
        "\n",
        "for node in G_core_7.nodes():\n",
        "  flag = True\n",
        "  for neighbor in G_core_7.neighbors(node):\n",
        "    if G_core_7.nodes[node][common_attr] != G_core_7.nodes[neighbor][common_attr]:\n",
        "        flag = False\n",
        "  if flag and len(list(G_core_7.neighbors(node))) > 2:\n",
        "    G_core_7.nodes[node]['chamber'] = 1\n",
        "  else:\n",
        "    G_core_7.nodes[node]['chamber'] = 0\n",
        "nx.write_gexf(G_core_7, \"G_core_7_chambers.gexf\")"
      ],
      "metadata": {
        "id": "HUQ0xJEOCwWg"
      },
      "execution_count": null,
      "outputs": []
    },
    {
      "cell_type": "markdown",
      "source": [
        "##### Some more preprocessing"
      ],
      "metadata": {
        "id": "wKalfB2ZZWUh"
      }
    },
    {
      "cell_type": "code",
      "source": [
        "sampled_nodes = []\n",
        "t = 0.62 #balancing left/right\n",
        "\n",
        "for node in G.nodes:\n",
        "  if G.nodes[node]['party'] == 'left':\n",
        "     p = random.random()\n",
        "     if p < t:\n",
        "       sampled_nodes.append(node)\n",
        "  else:\n",
        "    if G.nodes[node]['party'] == 'right':\n",
        "      sampled_nodes.append(node)\n",
        "    if G.nodes[node]['party'] == 'middle': #or G.nodes[node]['party'] == 'neutral':\n",
        "      sampled_nodes.append(node)\n",
        "\n",
        "G_sampled = G.subgraph(sampled_nodes)\n",
        "#print(G, G_sampled)\n",
        "G_sampled_core_2 = nx.k_core(G_sampled, 2)"
      ],
      "metadata": {
        "id": "Ir61mfKcLsI5"
      },
      "execution_count": null,
      "outputs": []
    },
    {
      "cell_type": "code",
      "source": [
        "#tweeting rate (total_tweets/twitter_age), requires G to be preprocessed (clean)\n",
        "for node in G.nodes:\n",
        "  G.nodes[node]['tweeting_rate'] = G.nodes[node]['total_tweets']/G.nodes[node]['twitter_age']\n",
        "\n",
        "for node in G_core_2:\n",
        "  G_core_2.nodes[node]['tweeting_rate'] = G.nodes[node]['tweeting_rate']\n",
        "\n",
        "for node in G_sampled_core_2:\n",
        "  G_sampled_core_2.nodes[node]['tweeting_rate'] = G.nodes[node]['tweeting_rate']"
      ],
      "metadata": {
        "id": "kSLfndaPPcuL"
      },
      "execution_count": null,
      "outputs": []
    },
    {
      "cell_type": "code",
      "source": [
        "#approximate production/consumption using tweeting_rate\n",
        "\n",
        "for node in G_sampled_core_2:\n",
        "    G_sampled_core_2.nodes[node]['production_polarity'], G_sampled_core_2.nodes[node]['consumption_polarity']  = -1, -1\n",
        "\n",
        "scoring_dict = {'left':0, 'middle':0.5, 'neutral':0.5, 'right':1}\n",
        "for node in G_sampled_core_2.nodes:\n",
        "  #print(node, G.nodes[node]['tweeting_rate'], list(G.neighbors(node)))\n",
        "  temp = []\n",
        "  production, consumption = [], []\n",
        "  for neighbor in G_sampled_core_2.neighbors(node):\n",
        "    #temp.append(G_sampled_core_2.nodes[neighbor]['party'])\n",
        "    #print(G.nodes[node]['tweeting_rate'], G.nodes[neighbor]['tweeting_rate'])\n",
        "    if (G_sampled_core_2.nodes[node]['tweeting_rate'] > G_sampled_core_2.nodes[neighbor]['tweeting_rate']):\n",
        "      production.append(G_sampled_core_2.nodes[neighbor]['party'])\n",
        "    else:\n",
        "      consumption.append(G_sampled_core_2.nodes[neighbor]['party'])\n",
        "  #print(production, consumption)\n",
        "  #print(collections.Counter(production), collections.Counter(consumption))\n",
        "  #print(collections.Counter(temp))\n",
        "\n",
        "  for item in production:\n",
        "    if len([scoring_dict[party] for party in production]) < 10: #robustness\n",
        "      G_sampled_core_2.nodes[node]['production_polarity'] = -1\n",
        "    else:\n",
        "      G_sampled_core_2.nodes[node]['production_polarity'] = float(f'{sum([scoring_dict[party] for party in production])/len([scoring_dict[party] for party in production]):.3f}')\n",
        "  for item in consumption:\n",
        "    if len([scoring_dict[party] for party in consumption]) < 10: #robustness\n",
        "      G_sampled_core_2.nodes[node]['consumption_polarity'] = -1\n",
        "    else:\n",
        "      G_sampled_core_2.nodes[node]['consumption_polarity'] = float(f'{sum ([scoring_dict[party] for party in consumption])/len([scoring_dict[party] for party in consumption]):.3f}')\n",
        "  #print(production, G_sampled_core_2.nodes[node]['production_polarity'])\n",
        "  #print(G_sampled_core_2.nodes[node]['production_polarity'], G_sampled_core_2.nodes[node]['consumption_polarity'])\n"
      ],
      "metadata": {
        "id": "hoz9n1dqN6eJ"
      },
      "execution_count": null,
      "outputs": []
    },
    {
      "cell_type": "markdown",
      "source": [
        "##### Partisans, Consumers and Gatekeepers"
      ],
      "metadata": {
        "id": "PCwxkmjSZera"
      }
    },
    {
      "cell_type": "code",
      "source": [
        "delta = 0.3\n",
        "partisans = []\n",
        "nx.write_gexf(G_sampled_core_2, \"mergedGraph_sampled_core_2.gexf\")\n",
        "\n",
        "for node in G_sampled_core_2:\n",
        "  if G_sampled_core_2.nodes[node]['production_polarity'] >= 0:\n",
        "    if min(G_sampled_core_2.nodes[node]['production_polarity'], 1-G_sampled_core_2.nodes[node]['production_polarity']) <= delta:\n",
        "      partisans.append(node)\n",
        "#print(partisans)\n",
        "\n",
        "temp = nx.get_node_attributes(G_sampled_core_2, 'production_polarity').values()\n",
        "#print(list(temp)[:100])\n",
        "partisan_list = [item for item in temp if item >= 0]\n",
        "_ = plt.hist(partisan_list, bins=50)"
      ],
      "metadata": {
        "colab": {
          "base_uri": "https://localhost:8080/",
          "height": 265
        },
        "id": "4_HeReUa3NS6",
        "outputId": "61643dca-1a9d-47ac-9b37-cdaa0bd47849"
      },
      "execution_count": null,
      "outputs": [
        {
          "output_type": "display_data",
          "data": {
            "text/plain": [
              "<Figure size 432x288 with 1 Axes>"
            ],
            "image/png": "[encoded data removed]"
          },
          "metadata": {
            "needs_background": "light"
          }
        }
      ]
    },
    {
      "cell_type": "code",
      "source": [
        "#consumption\n",
        "delta = 0.3\n",
        "\n",
        "temp = nx.get_node_attributes(G_sampled_core_2, 'consumption_polarity').values()\n",
        "partisan_list = [item for item in temp if item >= 0]\n",
        "_ = plt.hist(partisan_list, bins=50)"
      ],
      "metadata": {
        "colab": {
          "base_uri": "https://localhost:8080/",
          "height": 265
        },
        "id": "-pgwqHIBZGk4",
        "outputId": "8431880f-c264-4735-fe0c-c69021cc369e"
      },
      "execution_count": null,
      "outputs": [
        {
          "output_type": "display_data",
          "data": {
            "text/plain": [
              "<Figure size 432x288 with 1 Axes>"
            ],
            "image/png": "[encoded data removed]"
          },
          "metadata": {
            "needs_background": "light"
          }
        }
      ]
    },
    {
      "cell_type": "code",
      "source": [
        "#gatekeeping\n",
        "\n",
        "delta = 0.3\n",
        "gatekeepers = []\n",
        "\n",
        "for node in G_sampled_core_2:\n",
        "  if (G_sampled_core_2.nodes[node]['production_polarity']>=0 and G_sampled_core_2.nodes[node]['consumption_polarity']>=0):\n",
        "    if min(G_sampled_core_2.nodes[node]['production_polarity'],\n",
        "         1-G_sampled_core_2.nodes[node]['production_polarity']) <= delta and min(G_sampled_core_2.nodes[node]['consumption_polarity'],\n",
        "                                                                                 1 - G_sampled_core_2.nodes[node]['consumption_polarity']) > delta:\n",
        "         gatekeepers.append(node)\n",
        "\n",
        "print(gatekeepers)\n",
        "#for node in gatekeepers:\n",
        "  #print(G_sampled_core_2.nodes[node]['production_polarity'],G_sampled_core_2.nodes[node]['consumption_polarity'])"
      ],
      "metadata": {
        "id": "Bjrd5H0-ZnUa",
        "colab": {
          "base_uri": "https://localhost:8080/"
        },
        "outputId": "8f7bf23b-f88b-4a31-d755-6b016cf81333"
      },
      "execution_count": null,
      "outputs": [
        {
          "output_type": "stream",
          "name": "stdout",
          "text": [
            "[202, 228, 248, 262, 283, 313, 354, 367, 373, 379, 433, 479, 648, 859, 883, 884, 1134, 1182, 1186, 1201, 1284, 1328, 1420, 1565, 1580, 1617, 1620, 1667, 1897, 2169, 2223, 2231, 2343, 2396, 2471, 2510, 2521, 2796, 2812, 2919, 3210, 3387, 3455, 3739, 3821, 4118, 4378, 4447, 4522, 5004, 5375, 6665, 6735, 7396, 7770, 7782, 8904, 9640, 12271, 13120, 15938]\n"
          ]
        }
      ]
    },
    {
      "cell_type": "code",
      "source": [
        "#metrics\n",
        "#PageRank\n",
        "pagerank = nx.pagerank(G, alpha=0.85)\n",
        "page_g = sum(pagerank.values())/len(G)\n",
        "core_2, part, gate = [], [], []\n",
        "for user in G_sampled_core_2:\n",
        "  core_2.append(pagerank[user])\n",
        "page_core_2 = sum(core_2)/len(core_2)\n",
        "for partisan in partisans:\n",
        "  part.append(pagerank[partisan])\n",
        "page_part = sum(part)/len(part)\n",
        "for gatekeeper in gatekeepers:\n",
        "  gate.append(pagerank[gatekeeper])\n",
        "page_gate = sum(gate)/len(gate)\n",
        "\n",
        "#clustering coefficient\n",
        "cc_g = sum((nx.clustering(G)).values())/len(G)\n",
        "cc_core_2 = sum((nx.clustering(G, sampled_nodes).values()))/len(sampled_nodes)\n",
        "cc_part = sum((nx.clustering(G, partisans).values()))/len(partisans)\n",
        "cc_gate = sum((nx.clustering(G, gatekeepers).values()))/len(gatekeepers)\n",
        "\n",
        "#degrees\n",
        "degrees = dict(G.degree)\n",
        "deg_g = sum(degrees.values())/len(G.degree)\n",
        "core, part, gate = [], [], []\n",
        "for user in G_sampled_core_2:\n",
        "  core_2.append(degrees[user])\n",
        "deg_core_2 = sum(core_2)/len(core_2)\n",
        "for partisan in partisans:\n",
        "  part.append(degrees[partisan])\n",
        "deg_part = sum(part)/len(part)\n",
        "for gatekeeper in gatekeepers:\n",
        "  gate.append(degrees[gatekeeper])\n",
        "deg_gate = sum(gate)/len(gate)\n",
        "\n",
        "avg_age_g = sum([G.nodes[node]['twitter_age'] for node in G.nodes])/len(G)\n",
        "avg_age_core_2 = sum(G.nodes[node]['twitter_age'] for node in sampled_nodes)/len(sampled_nodes)\n",
        "avg_age_part = sum(G.nodes[node]['twitter_age'] for node in partisans)/len(partisans)\n",
        "avg_age_gate = sum(G.nodes[node]['twitter_age'] for node in gatekeepers)/len(gatekeepers)\n",
        "\n",
        "avg_followers_g = sum([G.nodes[node]['followers'] for node in G.nodes])/len(G)\n",
        "avg_followers_core_2 = sum([G.nodes[node]['followers'] for node in sampled_nodes])/len(sampled_nodes)\n",
        "avg_followers_part = sum([G.nodes[node]['followers'] for node in partisans])/len(partisans)\n",
        "avg_followers_gate = sum(G.nodes[node]['followers'] for node in gatekeepers)/len(gatekeepers)\n",
        "\n",
        "\n",
        "\n",
        "df = pd.DataFrame(np.array([[page_g, page_core_2, page_part, page_gate],\n",
        "                            [cc_g, cc_core_2, cc_part, cc_gate],\n",
        "                            [deg_g, deg_core_2, deg_part, deg_gate],\n",
        "                            [avg_followers_g, avg_followers_core_2, avg_followers_part, avg_followers_gate],\n",
        "                            [avg_age_g, avg_age_core_2, avg_age_part, avg_age_gate]]),\n",
        "                  columns = ['G', '2-core', 'partisans', 'gatekeepers'])\n",
        "df.index = ['PageRank', 'clustering coefficient', 'degree', 'followers', 'age on Twitter']\n",
        "\n",
        "display(df)"
      ],
      "metadata": {
        "colab": {
          "base_uri": "https://localhost:8080/",
          "height": 206
        },
        "id": "Vd1gkRA24py1",
        "outputId": "565c0922-9683-4b0b-9417-b4fba544878b"
      },
      "execution_count": null,
      "outputs": [
        {
          "output_type": "display_data",
          "data": {
            "text/plain": [
              "                                  G       2-core    partisans   gatekeepers\n",
              "PageRank                   0.000042     0.000067     0.000263      0.000257\n",
              "clustering coefficient     0.197702     0.202224     0.173633      0.158907\n",
              "degree                    19.130913    16.147668   136.998445    135.540984\n",
              "followers               2135.271431  2448.339657  8039.614308  20887.065574\n",
              "age on Twitter          2278.255479  2378.521942  2307.411353   2877.032787"
            ],
            "text/html": [
              "\n",
              "  <div id=\"df-1c2df566-51fb-4465-bd91-719c46f20ca6\">\n",
              "    <div class=\"colab-df-container\">\n",
              "      <div>\n",
              "<style scoped>\n",
              "    .dataframe tbody tr th:only-of-type {\n",
              "        vertical-align: middle;\n",
              "    }\n",
              "\n",
              "    .dataframe tbody tr th {\n",
              "        vertical-align: top;\n",
              "    }\n",
              "\n",
              "    .dataframe thead th {\n",
              "        text-align: right;\n",
              "    }\n",
              "</style>\n",
              "<table border=\"1\" class=\"dataframe\">\n",
              "  <thead>\n",
              "    <tr style=\"text-align: right;\">\n",
              "      <th></th>\n",
              "      <th>G</th>\n",
              "      <th>2-core</th>\n",
              "      <th>partisans</th>\n",
              "      <th>gatekeepers</th>\n",
              "    </tr>\n",
              "  </thead>\n",
              "  <tbody>\n",
              "    <tr>\n",
              "      <th>PageRank</th>\n",
              "      <td>0.000042</td>\n",
              "      <td>0.000067</td>\n",
              "      <td>0.000263</td>\n",
              "      <td>0.000257</td>\n",
              "    </tr>\n",
              "    <tr>\n",
              "      <th>clustering coefficient</th>\n",
              "      <td>0.197702</td>\n",
              "      <td>0.202224</td>\n",
              "      <td>0.173633</td>\n",
              "      <td>0.158907</td>\n",
              "    </tr>\n",
              "    <tr>\n",
              "      <th>degree</th>\n",
              "      <td>19.130913</td>\n",
              "      <td>16.147668</td>\n",
              "      <td>136.998445</td>\n",
              "      <td>135.540984</td>\n",
              "    </tr>\n",
              "    <tr>\n",
              "      <th>followers</th>\n",
              "      <td>2135.271431</td>\n",
              "      <td>2448.339657</td>\n",
              "      <td>8039.614308</td>\n",
              "      <td>20887.065574</td>\n",
              "    </tr>\n",
              "    <tr>\n",
              "      <th>age on Twitter</th>\n",
              "      <td>2278.255479</td>\n",
              "      <td>2378.521942</td>\n",
              "      <td>2307.411353</td>\n",
              "      <td>2877.032787</td>\n",
              "    </tr>\n",
              "  </tbody>\n",
              "</table>\n",
              "</div>\n",
              "      <button class=\"colab-df-convert\" onclick=\"convertToInteractive('df-1c2df566-51fb-4465-bd91-719c46f20ca6')\"\n",
              "              title=\"Convert this dataframe to an interactive table.\"\n",
              "              style=\"display:none;\">\n",
              "        \n",
              "  <svg xmlns=\"http://www.w3.org/2000/svg\" height=\"24px\"viewBox=\"0 0 24 24\"\n",
              "       width=\"24px\">\n",
              "    <path d=\"M0 0h24v24H0V0z\" fill=\"none\"/>\n",
              "    <path d=\"M18.56 5.44l.94 2.06.94-2.06 2.06-.94-2.06-.94-.94-2.06-.94 2.06-2.06.94zm-11 1L8.5 8.5l.94-2.06 2.06-.94-2.06-.94L8.5 2.5l-.94 2.06-2.06.94zm10 10l.94 2.06.94-2.06 2.06-.94-2.06-.94-.94-2.06-.94 2.06-2.06.94z\"/><path d=\"M17.41 7.96l-1.37-1.37c-.4-.4-.92-.59-1.43-.59-.52 0-1.04.2-1.43.59L10.3 9.45l-7.72 7.72c-.78.78-.78 2.05 0 2.83L4 21.41c.39.39.9.59 1.41.59.51 0 1.02-.2 1.41-.59l7.78-7.78 2.81-2.81c.8-.78.8-2.07 0-2.86zM5.41 20L4 18.59l7.72-7.72 1.47 1.35L5.41 20z\"/>\n",
              "  </svg>\n",
              "      </button>\n",
              "      \n",
              "  <style>\n",
              "    .colab-df-container {\n",
              "      display:flex;\n",
              "      flex-wrap:wrap;\n",
              "      gap: 12px;\n",
              "    }\n",
              "\n",
              "    .colab-df-convert {\n",
              "      background-color: #E8F0FE;\n",
              "      border: none;\n",
              "      border-radius: 50%;\n",
              "      cursor: pointer;\n",
              "      display: none;\n",
              "      fill: #1967D2;\n",
              "      height: 32px;\n",
              "      padding: 0 0 0 0;\n",
              "      width: 32px;\n",
              "    }\n",
              "\n",
              "    .colab-df-convert:hover {\n",
              "      background-color: #E2EBFA;\n",
              "      box-shadow: 0px 1px 2px rgba(60, 64, 67, 0.3), 0px 1px 3px 1px rgba(60, 64, 67, 0.15);\n",
              "      fill: #174EA6;\n",
              "    }\n",
              "\n",
              "    [theme=dark] .colab-df-convert {\n",
              "      background-color: #3B4455;\n",
              "      fill: #D2E3FC;\n",
              "    }\n",
              "\n",
              "    [theme=dark] .colab-df-convert:hover {\n",
              "      background-color: #434B5C;\n",
              "      box-shadow: 0px 1px 3px 1px rgba(0, 0, 0, 0.15);\n",
              "      filter: drop-shadow(0px 1px 2px rgba(0, 0, 0, 0.3));\n",
              "      fill: #FFFFFF;\n",
              "    }\n",
              "  </style>\n",
              "\n",
              "      <script>\n",
              "        const buttonEl =\n",
              "          document.querySelector('#df-1c2df566-51fb-4465-bd91-719c46f20ca6 button.colab-df-convert');\n",
              "        buttonEl.style.display =\n",
              "          google.colab.kernel.accessAllowed ? 'block' : 'none';\n",
              "\n",
              "        async function convertToInteractive(key) {\n",
              "          const element = document.querySelector('#df-1c2df566-51fb-4465-bd91-719c46f20ca6');\n",
              "          const dataTable =\n",
              "            await google.colab.kernel.invokeFunction('convertToInteractive',\n",
              "                                                     [key], {});\n",
              "          if (!dataTable) return;\n",
              "\n",
              "          const docLinkHtml = 'Like what you see? Visit the ' +\n",
              "            '<a target=\"_blank\" href=https://colab.research.google.com/notebooks/data_table.ipynb>data table notebook</a>'\n",
              "            + ' to learn more about interactive tables.';\n",
              "          element.innerHTML = '';\n",
              "          dataTable['output_type'] = 'display_data';\n",
              "          await google.colab.output.renderOutput(dataTable, element);\n",
              "          const docLink = document.createElement('div');\n",
              "          docLink.innerHTML = docLinkHtml;\n",
              "          element.appendChild(docLink);\n",
              "        }\n",
              "      </script>\n",
              "    </div>\n",
              "  </div>\n",
              "  "
            ]
          },
          "metadata": {}
        }
      ]
    },
    {
      "cell_type": "markdown",
      "source": [
        "#### Dynamic Communities"
      ],
      "metadata": {
        "id": "ctJ38ZMdeAB0"
      }
    },
    {
      "cell_type": "code",
      "source": [
        "sampling_rate = 0.05\n",
        "G_dynamic, G_prev = nx.Graph(), nx.Graph()\n",
        "\n",
        "for i in range (63):\n",
        "  p = random.random()\n",
        "  if p < sampling_rate:\n",
        "    st = \"Graph_\" + str(i)\n",
        "    path = '/content/drive/MyDrive/day_graphs/'+st\n",
        "    G_temp = pickle.load(open(path, 'rb'))\n",
        "    G_temp.remove_edges_from(nx.selfloop_edges(G_temp))\n",
        "    for node in G_temp.nodes:\n",
        "      G_temp.nodes[node]['end_date'] = str(datetime.date(2022, 7, 26) + datetime.timedelta(days=63)) #timestamp\n",
        "      if node not in G_prev:\n",
        "        G_temp.nodes[node]['start_date'] = str(datetime.date(2022, 7, 25) + datetime.timedelta(days=i)) #timestamp\n",
        "      if node in G_prev and node not in G_temp:\n",
        "        G_temp.nodes[node]['end_date'] = str(datetime.date(2022, 7, 26) + datetime.timedelta(days=i)) #timestamp\n",
        "    print(\"temp: \", G_temp)\n",
        "    nx.set_node_attributes(G_temp, attributes_dict)\n",
        "    G_dynamic = nx.compose(G_dynamic, G_temp)\n",
        "    print(\"total: \", G_dynamic)\n",
        "    G_prev = G_temp\n",
        "G_dynamic = nx.k_core(G_dynamic, 2)\n",
        "print(G_dynamic)\n",
        "\n",
        "#modularity\n",
        "communities = nxcom.greedy_modularity_communities(G_dynamic, resolution = 0.5)\n",
        "for i, community in enumerate(communities):\n",
        "    for node in community:\n",
        "        G_dynamic.nodes[node]['community'] = i\n",
        "path_write = \"G_dynamic_sampled.gexf\"\n",
        "nx.write_gexf(G_dynamic, path_write)"
      ],
      "metadata": {
        "id": "7rUXsYrOQm0O",
        "colab": {
          "base_uri": "https://localhost:8080/"
        },
        "outputId": "c086b504-0c4b-4039-ec7f-ae7a1a8c76cd"
      },
      "execution_count": null,
      "outputs": [
        {
          "output_type": "stream",
          "name": "stdout",
          "text": [
            "temp:  Graph with 781 nodes and 1571 edges\n",
            "total:  Graph with 781 nodes and 1571 edges\n",
            "temp:  Graph with 1979 nodes and 3287 edges\n",
            "total:  Graph with 2364 nodes and 4720 edges\n",
            "temp:  Graph with 2827 nodes and 5719 edges\n",
            "total:  Graph with 4112 nodes and 9956 edges\n",
            "temp:  Graph with 2506 nodes and 5584 edges\n",
            "total:  Graph with 5242 nodes and 15023 edges\n",
            "temp:  Graph with 1278 nodes and 2082 edges\n",
            "total:  Graph with 5574 nodes and 16763 edges\n",
            "Graph with 2924 nodes and 14206 edges\n"
          ]
        }
      ]
    },
    {
      "cell_type": "code",
      "source": [
        "d = datetime.date(2022, 7, 25)\n",
        "print(d)\n",
        "\n",
        "d = d + datetime.timedelta(days = 18)\n",
        "print(d)"
      ],
      "metadata": {
        "colab": {
          "base_uri": "https://localhost:8080/"
        },
        "id": "Y9X3WELtvGp8",
        "outputId": "c15d6efa-a28a-4897-a133-6ee5f9ece0bc"
      },
      "execution_count": null,
      "outputs": [
        {
          "output_type": "stream",
          "name": "stdout",
          "text": [
            "2022-07-25\n",
            "2022-08-12\n"
          ]
        }
      ]
    },
    {
      "cell_type": "code",
      "source": [
        "G_test = pickle.load(open('/content/drive/MyDrive/Graph_1','rb'))\n",
        "G_test.remove_edges_from(nx.selfloop_edges(G_test))\n",
        "G_test = nx.k_core(G_test, 2)\n",
        "communities = nxcom.greedy_modularity_communities(G_test, resolution=1)\n",
        "print(len(communities))\n"
      ],
      "metadata": {
        "id": "JNs8yGDnennD",
        "colab": {
          "base_uri": "https://localhost:8080/"
        },
        "outputId": "2af73fd1-6c10-4cdd-cb80-7a3230373617"
      },
      "execution_count": null,
      "outputs": [
        {
          "output_type": "stream",
          "name": "stdout",
          "text": [
            "12\n"
          ]
        }
      ]
    },
    {
      "cell_type": "code",
      "source": [
        "nx.number_connected_components(G_test)"
      ],
      "metadata": {
        "id": "LBoyymi33Q25"
      },
      "execution_count": null,
      "outputs": []
    },
    {
      "cell_type": "markdown",
      "source": [
        "#### Tales of Modularity"
      ],
      "metadata": {
        "id": "B2dmsgAFp5iq"
      }
    },
    {
      "cell_type": "code",
      "source": [
        "G_random = nx.fast_gnp_random_graph(10, 0.7)\n",
        "print(G_random)\n",
        "nx.draw(G_random)"
      ],
      "metadata": {
        "colab": {
          "base_uri": "https://localhost:8080/",
          "height": 336
        },
        "id": "90jsp-t2p6yT",
        "outputId": "bcf81a05-0176-4763-feed-e20ff051e2ad"
      },
      "execution_count": null,
      "outputs": [
        {
          "output_type": "stream",
          "name": "stdout",
          "text": [
            "Graph with 10 nodes and 28 edges\n"
          ]
        },
        {
          "output_type": "display_data",
          "data": {
            "text/plain": [
              "<Figure size 432x288 with 1 Axes>"
            ],
            "image/png": "[encoded data removed]"
          },
          "metadata": {}
        }
      ]
    },
    {
      "cell_type": "code",
      "source": [
        "from networkx.algorithms.community.modularity_max import greedy_modularity_communities\n",
        "from networkx.algorithms.community.louvain import modularity\n",
        "\n",
        "comms = greedy_modularity_communities(G_random)\n",
        "print(comms)"
      ],
      "metadata": {
        "colab": {
          "base_uri": "https://localhost:8080/"
        },
        "id": "3C-68fwvqI5T",
        "outputId": "f7695ec2-9b7b-48e9-8c53-e4be535b718b"
      },
      "execution_count": null,
      "outputs": [
        {
          "output_type": "stream",
          "name": "stdout",
          "text": [
            "[frozenset({0, 2, 3, 4, 5, 6, 7}), frozenset({8, 1, 9})]\n"
          ]
        }
      ]
    },
    {
      "cell_type": "code",
      "source": [],
      "metadata": {
        "id": "GkWU0-xB-b_N"
      },
      "execution_count": null,
      "outputs": []
    }
  ]
}